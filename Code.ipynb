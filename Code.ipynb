{
 "cells": [
  {
   "cell_type": "code",
   "execution_count": 2,
   "id": "a26ba99f",
   "metadata": {},
   "outputs": [],
   "source": [
    "import pandas as pd\n",
    "import numpy as np\n",
    "import matplotlib.pyplot as plt\n",
    "import seaborn as sns"
   ]
  },
  {
   "cell_type": "code",
   "execution_count": 3,
   "id": "43615352",
   "metadata": {},
   "outputs": [
    {
     "name": "stdout",
     "output_type": "stream",
     "text": [
      "  STATISTIC,\"Statistic Label\",\"TLIST(A1)\",\"Year\",\"C03195V03859\",\"Degree of Urbanisation\",\"UNIT\",\"VALUE\"\n",
      "0  NTA45C01,\"Owns an Electric Vehicle (EV)\",\"2019...                                                   \n",
      "1  NTA45C01,\"Owns an Electric Vehicle (EV)\",\"2019...                                                   \n",
      "2  NTA45C01,\"Owns an Electric Vehicle (EV)\",\"2019...                                                   \n",
      "3  NTA45C01,\"Owns an Electric Vehicle (EV)\",\"2019...                                                   \n",
      "4  NTA45C01,\"Owns an Electric Vehicle (EV)\",\"2021...                                                   \n"
     ]
    }
   ],
   "source": [
    "from urllib.request import urlretrieve\n",
    "url = \"https://ws.cso.ie/public/api.restful/PxStat.Data.Cube_API.ReadDataset/NTA45/CSV/1.0/en\"\n",
    "urlretrieve(url, 'owns_a_EV_2019_2021.csv')\n",
    "df = pd.read_csv('owns_a_EV_2019_2021.csv', sep=';')\n",
    "print(df.head())"
   ]
  },
  {
   "cell_type": "code",
   "execution_count": null,
   "id": "dd6d2eef",
   "metadata": {},
   "outputs": [],
   "source": [
    "import mysql.connector\n",
    "Influence = pd.read_csv('Factors_Influenced_Purchase_EV_2019_2021.csv')\n"
   ]
  },
  {
   "cell_type": "code",
   "execution_count": null,
   "id": "9e629f7e",
   "metadata": {},
   "outputs": [],
   "source": []
  }
 ],
 "metadata": {
  "kernelspec": {
   "display_name": "Python 3",
   "language": "python",
   "name": "python3"
  },
  "language_info": {
   "codemirror_mode": {
    "name": "ipython",
    "version": 3
   },
   "file_extension": ".py",
   "mimetype": "text/x-python",
   "name": "python",
   "nbconvert_exporter": "python",
   "pygments_lexer": "ipython3",
   "version": "3.8.8"
  }
 },
 "nbformat": 4,
 "nbformat_minor": 5
}
