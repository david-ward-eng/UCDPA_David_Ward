{
 "cells": [
  {
   "cell_type": "code",
   "execution_count": 1,
   "id": "a26ba99f",
   "metadata": {},
   "outputs": [],
   "source": [
    "import pandas as pd\n",
    "import numpy as np\n",
    "import matplotlib.pyplot as plt\n",
    "import seaborn as sns"
   ]
  },
  {
   "cell_type": "code",
   "execution_count": 134,
   "id": "43615352",
   "metadata": {},
   "outputs": [
    {
     "name": "stdout",
     "output_type": "stream",
     "text": [
      "                 Statistic Label  Year       Degree of Urbanisation  VALUE\n",
      "0  Owns an Electric Vehicle (EV)  2019            Densely populated    1.6\n",
      "1  Owns an Electric Vehicle (EV)  2019       Intermediate populated    1.6\n",
      "2  Owns an Electric Vehicle (EV)  2019             Thinly populated    1.3\n",
      "3  Owns an Electric Vehicle (EV)  2019  All degrees of urbanisation    1.5\n",
      "4  Owns an Electric Vehicle (EV)  2021            Densely populated    4.8\n"
     ]
    },
    {
     "data": {
      "text/plain": [
       "pandas.core.frame.DataFrame"
      ]
     },
     "execution_count": 134,
     "metadata": {},
     "output_type": "execute_result"
    }
   ],
   "source": [
    "from urllib.request import urlretrieve\n",
    "url = \"https://ws.cso.ie/public/api.restful/PxStat.Data.Cube_API.ReadDataset/NTA45/CSV/1.0/en\"\n",
    "urlretrieve(url, 'owns_a_EV_2019_2021.csv')\n",
    "df = pd.read_csv('owns_a_EV_2019_2021.csv')\n",
    "Owns_EV_2019_2021 = df[[\"Statistic Label\", \"Year\", \"Degree of Urbanisation\", \"VALUE\"]]\n",
    "print(Owns_EV_2019_2021.head())\n",
    "type(Owns_EV_2019_2021)"
   ]
  },
  {
   "cell_type": "code",
   "execution_count": 72,
   "id": "dd6d2eef",
   "metadata": {},
   "outputs": [
    {
     "name": "stdout",
     "output_type": "stream",
     "text": [
      "                                     STATISTIC Label  Year         Sex  \\\n",
      "0  Factors that influenced the purchase of an Ele...  2019  Both sexes   \n",
      "1  Factors that influenced the purchase of an Ele...  2019  Both sexes   \n",
      "2  Factors that influenced the purchase of an Ele...  2019  Both sexes   \n",
      "3  Factors that influenced the purchase of an Ele...  2019  Both sexes   \n",
      "4  Factors that influenced the purchase of an Ele...  2019  Both sexes   \n",
      "\n",
      "                   Influencing factor of EV purchase  VALUE  \n",
      "0  Making more of a contribution to a better envi...   71.8  \n",
      "1                        Better affordability to run   77.8  \n",
      "2                                        Reduced tax    0.0  \n",
      "3                    Availabitity of purchase grants    0.0  \n",
      "4                            Reduced noise pollution   17.2  \n"
     ]
    },
    {
     "data": {
      "text/plain": [
       "pandas.core.frame.DataFrame"
      ]
     },
     "execution_count": 72,
     "metadata": {},
     "output_type": "execute_result"
    }
   ],
   "source": [
    "df = pd.read_csv(\"Factors_Influenced_Purchase_EV_2019_2021.csv\")\n",
    "Influence = df[[\"STATISTIC Label\", \"Year\", \"Sex\", \"Influencing factor of EV purchase\", \"VALUE\"]]\n",
    "Influence = Influence.fillna(0)\n",
    "print(Influence.head())\n",
    "type(Influence)"
   ]
  },
  {
   "cell_type": "code",
   "execution_count": 143,
   "id": "46c41d91",
   "metadata": {},
   "outputs": [
    {
     "name": "stdout",
     "output_type": "stream",
     "text": [
      "                          Statistic Label  Year     Sex          Age Group  \\\n",
      "0           Owns an Electric Vehicle (EV)  2019    Male      18 - 29 years   \n",
      "1           Owns an Electric Vehicle (EV)  2019    Male      30 - 44 years   \n",
      "2           Owns an Electric Vehicle (EV)  2019    Male      45 - 59 years   \n",
      "3           Owns an Electric Vehicle (EV)  2019    Male      60 - 74 years   \n",
      "4           Owns an Electric Vehicle (EV)  2019    Male  75 years and over   \n",
      "5           Owns an Electric Vehicle (EV)  2019  Female      18 - 29 years   \n",
      "6           Owns an Electric Vehicle (EV)  2019  Female      30 - 44 years   \n",
      "7           Owns an Electric Vehicle (EV)  2019  Female      45 - 59 years   \n",
      "8           Owns an Electric Vehicle (EV)  2019  Female      60 - 74 years   \n",
      "9           Owns an Electric Vehicle (EV)  2019  Female  75 years and over   \n",
      "10  Does not own an Electric Vehicle (EV)  2019    Male      18 - 29 years   \n",
      "11  Does not own an Electric Vehicle (EV)  2019    Male      30 - 44 years   \n",
      "12  Does not own an Electric Vehicle (EV)  2019    Male      45 - 59 years   \n",
      "13  Does not own an Electric Vehicle (EV)  2019    Male      60 - 74 years   \n",
      "14  Does not own an Electric Vehicle (EV)  2019    Male  75 years and over   \n",
      "15  Does not own an Electric Vehicle (EV)  2019  Female      18 - 29 years   \n",
      "16  Does not own an Electric Vehicle (EV)  2019  Female      30 - 44 years   \n",
      "17  Does not own an Electric Vehicle (EV)  2019  Female      45 - 59 years   \n",
      "18  Does not own an Electric Vehicle (EV)  2019  Female      60 - 74 years   \n",
      "19  Does not own an Electric Vehicle (EV)  2019  Female  75 years and over   \n",
      "\n",
      "    VALUE%  \n",
      "0      0.8  \n",
      "1      1.1  \n",
      "2      2.3  \n",
      "3      1.6  \n",
      "4      0.8  \n",
      "5      0.9  \n",
      "6      1.4  \n",
      "7      1.7  \n",
      "8      2.7  \n",
      "9      0.2  \n",
      "10    99.2  \n",
      "11    98.9  \n",
      "12    97.7  \n",
      "13    98.4  \n",
      "14    99.2  \n",
      "15    99.1  \n",
      "16    98.6  \n",
      "17    98.3  \n",
      "18    97.3  \n",
      "19    99.8  \n"
     ]
    }
   ],
   "source": [
    "Statistic = [\"Owns an Electric Vehicle (EV)\", \"Owns an Electric Vehicle (EV)\", \"Owns an Electric Vehicle (EV)\",\n",
    "                  \"Owns an Electric Vehicle (EV)\", \"Owns an Electric Vehicle (EV)\", \"Owns an Electric Vehicle (EV)\",\n",
    "                  \"Owns an Electric Vehicle (EV)\", \"Owns an Electric Vehicle (EV)\", \"Owns an Electric Vehicle (EV)\",\n",
    "                  \"Owns an Electric Vehicle (EV)\", \"Does not own an Electric Vehicle (EV)\", \"Does not own an Electric Vehicle (EV)\",\n",
    "                  \"Does not own an Electric Vehicle (EV)\", \"Does not own an Electric Vehicle (EV)\", \"Does not own an Electric Vehicle (EV)\",\n",
    "                  \"Does not own an Electric Vehicle (EV)\", \"Does not own an Electric Vehicle (EV)\", \"Does not own an Electric Vehicle (EV)\",\n",
    "                  \"Does not own an Electric Vehicle (EV)\", \"Does not own an Electric Vehicle (EV)\"]\n",
    "Year = [2019, 2019, 2019, 2019, 2019, 2019, 2019, 2019, 2019, 2019, 2019, 2019, 2019, 2019, 2019, 2019, 2019, 2019, 2019, 2019]\n",
    "Sex = [\"Male\", \"Male\", \"Male\", \"Male\", \"Male\", \"Female\", \"Female\", \"Female\", \"Female\", \"Female\", \"Male\", \"Male\", \"Male\", \"Male\",\n",
    "      \"Male\", \"Female\", \"Female\", \"Female\", \"Female\", \"Female\"]\n",
    "Age_Group = [\"18 - 29 years\", \"30 - 44 years\", \"45 - 59 years\", \"60 - 74 years\", \"75 years and over\",\n",
    "            \"18 - 29 years\", \"30 - 44 years\", \"45 - 59 years\", \"60 - 74 years\", \"75 years and over\",\n",
    "            \"18 - 29 years\", \"30 - 44 years\", \"45 - 59 years\", \"60 - 74 years\", \"75 years and over\",\n",
    "            \"18 - 29 years\", \"30 - 44 years\", \"45 - 59 years\", \"60 - 74 years\", \"75 years and over\"]\n",
    "VALUE= [0.8, 1.1, 2.3, 1.6, 0.8, 0.9, 1.4, 1.7, 2.7, 0.2, 99.2, 98.9, 97.7, 98.4, 99.2, 99.1, 98.6, 98.3, 97.3, 99.8]\n",
    "my_dict = {'Statistic Label':Statistic, 'Year':Year, 'Sex':Sex, 'Age Group':Age_Group, 'VALUE%':VALUE}\n",
    "EV_2019 = pd.DataFrame(my_dict)\n",
    "print(EV_2019)"
   ]
  },
  {
   "cell_type": "code",
   "execution_count": null,
   "id": "bcc37c2d",
   "metadata": {},
   "outputs": [],
   "source": []
  }
 ],
 "metadata": {
  "kernelspec": {
   "display_name": "Python 3",
   "language": "python",
   "name": "python3"
  },
  "language_info": {
   "codemirror_mode": {
    "name": "ipython",
    "version": 3
   },
   "file_extension": ".py",
   "mimetype": "text/x-python",
   "name": "python",
   "nbconvert_exporter": "python",
   "pygments_lexer": "ipython3",
   "version": "3.8.8"
  }
 },
 "nbformat": 4,
 "nbformat_minor": 5
}
