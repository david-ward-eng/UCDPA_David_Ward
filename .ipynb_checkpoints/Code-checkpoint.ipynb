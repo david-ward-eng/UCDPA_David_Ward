{
 "cells": [
  {
   "cell_type": "code",
   "execution_count": 4,
   "id": "a26ba99f",
   "metadata": {},
   "outputs": [],
   "source": [
    "import pandas as pd\n",
    "import numpy as np\n",
    "import matplotlib.pyplot as plt\n",
    "import seaborn as sns"
   ]
  },
  {
   "cell_type": "code",
   "execution_count": 5,
   "id": "46c41d91",
   "metadata": {},
   "outputs": [
    {
     "name": "stdout",
     "output_type": "stream",
     "text": [
      "                          Statistic Label  Year     Sex          Age Group  \\\n",
      "0           Owns an Electric Vehicle (EV)  2019    Male      18 - 29 years   \n",
      "1           Owns an Electric Vehicle (EV)  2019    Male      30 - 44 years   \n",
      "2           Owns an Electric Vehicle (EV)  2019    Male      45 - 59 years   \n",
      "3           Owns an Electric Vehicle (EV)  2019    Male      60 - 74 years   \n",
      "4           Owns an Electric Vehicle (EV)  2019    Male  75 years and over   \n",
      "5           Owns an Electric Vehicle (EV)  2019  Female      18 - 29 years   \n",
      "6           Owns an Electric Vehicle (EV)  2019  Female      30 - 44 years   \n",
      "7           Owns an Electric Vehicle (EV)  2019  Female      45 - 59 years   \n",
      "8           Owns an Electric Vehicle (EV)  2019  Female      60 - 74 years   \n",
      "9           Owns an Electric Vehicle (EV)  2019  Female  75 years and over   \n",
      "10  Does not own an Electric Vehicle (EV)  2019    Male      18 - 29 years   \n",
      "11  Does not own an Electric Vehicle (EV)  2019    Male      30 - 44 years   \n",
      "12  Does not own an Electric Vehicle (EV)  2019    Male      45 - 59 years   \n",
      "13  Does not own an Electric Vehicle (EV)  2019    Male      60 - 74 years   \n",
      "14  Does not own an Electric Vehicle (EV)  2019    Male  75 years and over   \n",
      "15  Does not own an Electric Vehicle (EV)  2019  Female      18 - 29 years   \n",
      "16  Does not own an Electric Vehicle (EV)  2019  Female      30 - 44 years   \n",
      "17  Does not own an Electric Vehicle (EV)  2019  Female      45 - 59 years   \n",
      "18  Does not own an Electric Vehicle (EV)  2019  Female      60 - 74 years   \n",
      "19  Does not own an Electric Vehicle (EV)  2019  Female  75 years and over   \n",
      "\n",
      "    VALUE%  \n",
      "0      0.8  \n",
      "1      1.1  \n",
      "2      2.3  \n",
      "3      1.6  \n",
      "4      0.8  \n",
      "5      0.9  \n",
      "6      1.4  \n",
      "7      1.7  \n",
      "8      2.7  \n",
      "9      0.2  \n",
      "10    99.2  \n",
      "11    98.9  \n",
      "12    97.7  \n",
      "13    98.4  \n",
      "14    99.2  \n",
      "15    99.1  \n",
      "16    98.6  \n",
      "17    98.3  \n",
      "18    97.3  \n",
      "19    99.8  \n"
     ]
    },
    {
     "data": {
      "text/plain": [
       "pandas.core.frame.DataFrame"
      ]
     },
     "execution_count": 5,
     "metadata": {},
     "output_type": "execute_result"
    }
   ],
   "source": [
    "Statistic = [\"Owns an Electric Vehicle (EV)\", \"Owns an Electric Vehicle (EV)\", \"Owns an Electric Vehicle (EV)\",\n",
    "                  \"Owns an Electric Vehicle (EV)\", \"Owns an Electric Vehicle (EV)\", \"Owns an Electric Vehicle (EV)\",\n",
    "                  \"Owns an Electric Vehicle (EV)\", \"Owns an Electric Vehicle (EV)\", \"Owns an Electric Vehicle (EV)\",\n",
    "                  \"Owns an Electric Vehicle (EV)\", \"Does not own an Electric Vehicle (EV)\", \"Does not own an Electric Vehicle (EV)\",\n",
    "                  \"Does not own an Electric Vehicle (EV)\", \"Does not own an Electric Vehicle (EV)\", \"Does not own an Electric Vehicle (EV)\",\n",
    "                  \"Does not own an Electric Vehicle (EV)\", \"Does not own an Electric Vehicle (EV)\", \"Does not own an Electric Vehicle (EV)\",\n",
    "                  \"Does not own an Electric Vehicle (EV)\", \"Does not own an Electric Vehicle (EV)\"]\n",
    "Year = [2019, 2019, 2019, 2019, 2019, 2019, 2019, 2019, 2019, 2019, 2019, 2019, 2019, 2019, 2019, 2019, 2019, 2019, 2019, 2019]\n",
    "Sex = [\"Male\", \"Male\", \"Male\", \"Male\", \"Male\", \"Female\", \"Female\", \"Female\", \"Female\", \"Female\", \"Male\", \"Male\", \"Male\", \"Male\",\n",
    "      \"Male\", \"Female\", \"Female\", \"Female\", \"Female\", \"Female\"]\n",
    "Age_Group = [\"18 - 29 years\", \"30 - 44 years\", \"45 - 59 years\", \"60 - 74 years\", \"75 years and over\",\n",
    "            \"18 - 29 years\", \"30 - 44 years\", \"45 - 59 years\", \"60 - 74 years\", \"75 years and over\",\n",
    "            \"18 - 29 years\", \"30 - 44 years\", \"45 - 59 years\", \"60 - 74 years\", \"75 years and over\",\n",
    "            \"18 - 29 years\", \"30 - 44 years\", \"45 - 59 years\", \"60 - 74 years\", \"75 years and over\"]\n",
    "VALUE= [0.8, 1.1, 2.3, 1.6, 0.8, 0.9, 1.4, 1.7, 2.7, 0.2, 99.2, 98.9, 97.7, 98.4, 99.2, 99.1, 98.6, 98.3, 97.3, 99.8]\n",
    "my_dict = {'Statistic Label':Statistic, 'Year':Year, 'Sex':Sex, 'Age Group':Age_Group, 'VALUE%':VALUE}\n",
    "EV_2019 = pd.DataFrame(my_dict)\n",
    "EV_2019.rename(columns={\"VALUE\" : \"VALUE%\"}, inplace=True)\n",
    "print(EV_2019)\n",
    "type(EV_2019)"
   ]
  },
  {
   "cell_type": "code",
   "execution_count": 6,
   "id": "da5d5566",
   "metadata": {},
   "outputs": [
    {
     "data": {
      "text/html": [
       "<div>\n",
       "<style scoped>\n",
       "    .dataframe tbody tr th:only-of-type {\n",
       "        vertical-align: middle;\n",
       "    }\n",
       "\n",
       "    .dataframe tbody tr th {\n",
       "        vertical-align: top;\n",
       "    }\n",
       "\n",
       "    .dataframe thead th {\n",
       "        text-align: right;\n",
       "    }\n",
       "</style>\n",
       "<table border=\"1\" class=\"dataframe\">\n",
       "  <thead>\n",
       "    <tr style=\"text-align: right;\">\n",
       "      <th></th>\n",
       "      <th>Statistic Label</th>\n",
       "      <th>Year</th>\n",
       "      <th>Sex</th>\n",
       "      <th>Age Group</th>\n",
       "      <th>VALUE%</th>\n",
       "    </tr>\n",
       "  </thead>\n",
       "  <tbody>\n",
       "    <tr>\n",
       "      <th>0</th>\n",
       "      <td>False</td>\n",
       "      <td>False</td>\n",
       "      <td>False</td>\n",
       "      <td>False</td>\n",
       "      <td>False</td>\n",
       "    </tr>\n",
       "    <tr>\n",
       "      <th>1</th>\n",
       "      <td>False</td>\n",
       "      <td>False</td>\n",
       "      <td>False</td>\n",
       "      <td>False</td>\n",
       "      <td>False</td>\n",
       "    </tr>\n",
       "    <tr>\n",
       "      <th>2</th>\n",
       "      <td>False</td>\n",
       "      <td>False</td>\n",
       "      <td>False</td>\n",
       "      <td>False</td>\n",
       "      <td>False</td>\n",
       "    </tr>\n",
       "    <tr>\n",
       "      <th>3</th>\n",
       "      <td>False</td>\n",
       "      <td>False</td>\n",
       "      <td>False</td>\n",
       "      <td>False</td>\n",
       "      <td>False</td>\n",
       "    </tr>\n",
       "    <tr>\n",
       "      <th>4</th>\n",
       "      <td>False</td>\n",
       "      <td>False</td>\n",
       "      <td>False</td>\n",
       "      <td>False</td>\n",
       "      <td>False</td>\n",
       "    </tr>\n",
       "    <tr>\n",
       "      <th>5</th>\n",
       "      <td>False</td>\n",
       "      <td>False</td>\n",
       "      <td>False</td>\n",
       "      <td>False</td>\n",
       "      <td>False</td>\n",
       "    </tr>\n",
       "    <tr>\n",
       "      <th>6</th>\n",
       "      <td>False</td>\n",
       "      <td>False</td>\n",
       "      <td>False</td>\n",
       "      <td>False</td>\n",
       "      <td>False</td>\n",
       "    </tr>\n",
       "    <tr>\n",
       "      <th>7</th>\n",
       "      <td>False</td>\n",
       "      <td>False</td>\n",
       "      <td>False</td>\n",
       "      <td>False</td>\n",
       "      <td>False</td>\n",
       "    </tr>\n",
       "    <tr>\n",
       "      <th>8</th>\n",
       "      <td>False</td>\n",
       "      <td>False</td>\n",
       "      <td>False</td>\n",
       "      <td>False</td>\n",
       "      <td>False</td>\n",
       "    </tr>\n",
       "    <tr>\n",
       "      <th>9</th>\n",
       "      <td>False</td>\n",
       "      <td>False</td>\n",
       "      <td>False</td>\n",
       "      <td>False</td>\n",
       "      <td>False</td>\n",
       "    </tr>\n",
       "    <tr>\n",
       "      <th>10</th>\n",
       "      <td>False</td>\n",
       "      <td>False</td>\n",
       "      <td>False</td>\n",
       "      <td>False</td>\n",
       "      <td>False</td>\n",
       "    </tr>\n",
       "    <tr>\n",
       "      <th>11</th>\n",
       "      <td>False</td>\n",
       "      <td>False</td>\n",
       "      <td>False</td>\n",
       "      <td>False</td>\n",
       "      <td>False</td>\n",
       "    </tr>\n",
       "    <tr>\n",
       "      <th>12</th>\n",
       "      <td>False</td>\n",
       "      <td>False</td>\n",
       "      <td>False</td>\n",
       "      <td>False</td>\n",
       "      <td>False</td>\n",
       "    </tr>\n",
       "    <tr>\n",
       "      <th>13</th>\n",
       "      <td>False</td>\n",
       "      <td>False</td>\n",
       "      <td>False</td>\n",
       "      <td>False</td>\n",
       "      <td>False</td>\n",
       "    </tr>\n",
       "    <tr>\n",
       "      <th>14</th>\n",
       "      <td>False</td>\n",
       "      <td>False</td>\n",
       "      <td>False</td>\n",
       "      <td>False</td>\n",
       "      <td>False</td>\n",
       "    </tr>\n",
       "    <tr>\n",
       "      <th>15</th>\n",
       "      <td>False</td>\n",
       "      <td>False</td>\n",
       "      <td>False</td>\n",
       "      <td>False</td>\n",
       "      <td>False</td>\n",
       "    </tr>\n",
       "    <tr>\n",
       "      <th>16</th>\n",
       "      <td>False</td>\n",
       "      <td>False</td>\n",
       "      <td>False</td>\n",
       "      <td>False</td>\n",
       "      <td>False</td>\n",
       "    </tr>\n",
       "    <tr>\n",
       "      <th>17</th>\n",
       "      <td>False</td>\n",
       "      <td>False</td>\n",
       "      <td>False</td>\n",
       "      <td>False</td>\n",
       "      <td>False</td>\n",
       "    </tr>\n",
       "    <tr>\n",
       "      <th>18</th>\n",
       "      <td>False</td>\n",
       "      <td>False</td>\n",
       "      <td>False</td>\n",
       "      <td>False</td>\n",
       "      <td>False</td>\n",
       "    </tr>\n",
       "    <tr>\n",
       "      <th>19</th>\n",
       "      <td>False</td>\n",
       "      <td>False</td>\n",
       "      <td>False</td>\n",
       "      <td>False</td>\n",
       "      <td>False</td>\n",
       "    </tr>\n",
       "  </tbody>\n",
       "</table>\n",
       "</div>"
      ],
      "text/plain": [
       "    Statistic Label   Year    Sex  Age Group  VALUE%\n",
       "0             False  False  False      False   False\n",
       "1             False  False  False      False   False\n",
       "2             False  False  False      False   False\n",
       "3             False  False  False      False   False\n",
       "4             False  False  False      False   False\n",
       "5             False  False  False      False   False\n",
       "6             False  False  False      False   False\n",
       "7             False  False  False      False   False\n",
       "8             False  False  False      False   False\n",
       "9             False  False  False      False   False\n",
       "10            False  False  False      False   False\n",
       "11            False  False  False      False   False\n",
       "12            False  False  False      False   False\n",
       "13            False  False  False      False   False\n",
       "14            False  False  False      False   False\n",
       "15            False  False  False      False   False\n",
       "16            False  False  False      False   False\n",
       "17            False  False  False      False   False\n",
       "18            False  False  False      False   False\n",
       "19            False  False  False      False   False"
      ]
     },
     "execution_count": 6,
     "metadata": {},
     "output_type": "execute_result"
    }
   ],
   "source": [
    "df = pd.read_csv(\"EV_Ownership_2021.csv\")\n",
    "df.rename(columns={\"VALUE\" : \"VALUE%\"}, inplace=True)\n",
    "EV_2021 = df[[\"Statistic Label\", \"Year\", \"Sex\", \"Age Group\", \"VALUE%\"]]\n",
    "EV_2021.isnull()"
   ]
  },
  {
   "cell_type": "code",
   "execution_count": 7,
   "id": "ef0b9afe",
   "metadata": {},
   "outputs": [
    {
     "name": "stdout",
     "output_type": "stream",
     "text": [
      "                 Statistic Label  Year   Sex          Age Group  VALUE%\n",
      "0  Owns an Electric Vehicle (EV)  2021  Male      18 - 29 years     1.2\n",
      "1  Owns an Electric Vehicle (EV)  2021  Male      30 - 44 years     4.1\n",
      "2  Owns an Electric Vehicle (EV)  2021  Male      45 - 59 years     4.5\n",
      "3  Owns an Electric Vehicle (EV)  2021  Male      60 - 74 years     4.9\n",
      "4  Owns an Electric Vehicle (EV)  2021  Male  75 years and over     3.1\n"
     ]
    },
    {
     "data": {
      "text/plain": [
       "pandas.core.frame.DataFrame"
      ]
     },
     "execution_count": 7,
     "metadata": {},
     "output_type": "execute_result"
    }
   ],
   "source": [
    "print(EV_2021.head())\n",
    "type(EV_2021)"
   ]
  },
  {
   "cell_type": "code",
   "execution_count": 8,
   "id": "dd6d2eef",
   "metadata": {},
   "outputs": [
    {
     "data": {
      "text/html": [
       "<div>\n",
       "<style scoped>\n",
       "    .dataframe tbody tr th:only-of-type {\n",
       "        vertical-align: middle;\n",
       "    }\n",
       "\n",
       "    .dataframe tbody tr th {\n",
       "        vertical-align: top;\n",
       "    }\n",
       "\n",
       "    .dataframe thead th {\n",
       "        text-align: right;\n",
       "    }\n",
       "</style>\n",
       "<table border=\"1\" class=\"dataframe\">\n",
       "  <thead>\n",
       "    <tr style=\"text-align: right;\">\n",
       "      <th></th>\n",
       "      <th>STATISTIC Label</th>\n",
       "      <th>Year</th>\n",
       "      <th>Sex</th>\n",
       "      <th>Influencing factor of EV purchase</th>\n",
       "      <th>VALUE%</th>\n",
       "    </tr>\n",
       "  </thead>\n",
       "  <tbody>\n",
       "    <tr>\n",
       "      <th>0</th>\n",
       "      <td>False</td>\n",
       "      <td>False</td>\n",
       "      <td>False</td>\n",
       "      <td>False</td>\n",
       "      <td>False</td>\n",
       "    </tr>\n",
       "    <tr>\n",
       "      <th>1</th>\n",
       "      <td>False</td>\n",
       "      <td>False</td>\n",
       "      <td>False</td>\n",
       "      <td>False</td>\n",
       "      <td>False</td>\n",
       "    </tr>\n",
       "    <tr>\n",
       "      <th>2</th>\n",
       "      <td>False</td>\n",
       "      <td>False</td>\n",
       "      <td>False</td>\n",
       "      <td>False</td>\n",
       "      <td>True</td>\n",
       "    </tr>\n",
       "    <tr>\n",
       "      <th>3</th>\n",
       "      <td>False</td>\n",
       "      <td>False</td>\n",
       "      <td>False</td>\n",
       "      <td>False</td>\n",
       "      <td>True</td>\n",
       "    </tr>\n",
       "    <tr>\n",
       "      <th>4</th>\n",
       "      <td>False</td>\n",
       "      <td>False</td>\n",
       "      <td>False</td>\n",
       "      <td>False</td>\n",
       "      <td>False</td>\n",
       "    </tr>\n",
       "    <tr>\n",
       "      <th>...</th>\n",
       "      <td>...</td>\n",
       "      <td>...</td>\n",
       "      <td>...</td>\n",
       "      <td>...</td>\n",
       "      <td>...</td>\n",
       "    </tr>\n",
       "    <tr>\n",
       "      <th>61</th>\n",
       "      <td>False</td>\n",
       "      <td>False</td>\n",
       "      <td>False</td>\n",
       "      <td>False</td>\n",
       "      <td>False</td>\n",
       "    </tr>\n",
       "    <tr>\n",
       "      <th>62</th>\n",
       "      <td>False</td>\n",
       "      <td>False</td>\n",
       "      <td>False</td>\n",
       "      <td>False</td>\n",
       "      <td>False</td>\n",
       "    </tr>\n",
       "    <tr>\n",
       "      <th>63</th>\n",
       "      <td>False</td>\n",
       "      <td>False</td>\n",
       "      <td>False</td>\n",
       "      <td>False</td>\n",
       "      <td>False</td>\n",
       "    </tr>\n",
       "    <tr>\n",
       "      <th>64</th>\n",
       "      <td>False</td>\n",
       "      <td>False</td>\n",
       "      <td>False</td>\n",
       "      <td>False</td>\n",
       "      <td>False</td>\n",
       "    </tr>\n",
       "    <tr>\n",
       "      <th>65</th>\n",
       "      <td>False</td>\n",
       "      <td>False</td>\n",
       "      <td>False</td>\n",
       "      <td>False</td>\n",
       "      <td>False</td>\n",
       "    </tr>\n",
       "  </tbody>\n",
       "</table>\n",
       "<p>66 rows × 5 columns</p>\n",
       "</div>"
      ],
      "text/plain": [
       "    STATISTIC Label   Year    Sex  Influencing factor of EV purchase  VALUE%\n",
       "0             False  False  False                              False   False\n",
       "1             False  False  False                              False   False\n",
       "2             False  False  False                              False    True\n",
       "3             False  False  False                              False    True\n",
       "4             False  False  False                              False   False\n",
       "..              ...    ...    ...                                ...     ...\n",
       "61            False  False  False                              False   False\n",
       "62            False  False  False                              False   False\n",
       "63            False  False  False                              False   False\n",
       "64            False  False  False                              False   False\n",
       "65            False  False  False                              False   False\n",
       "\n",
       "[66 rows x 5 columns]"
      ]
     },
     "execution_count": 8,
     "metadata": {},
     "output_type": "execute_result"
    }
   ],
   "source": [
    "df = pd.read_csv(\"Factors_Influenced_Purchase_EV_2019_2021.csv\")\n",
    "df.rename(columns={\"VALUE\" : \"VALUE%\"}, inplace=True)\n",
    "Influence = df[[\"STATISTIC Label\", \"Year\", \"Sex\", \"Influencing factor of EV purchase\", \"VALUE%\"]]\n",
    "Influence.isnull()"
   ]
  },
  {
   "cell_type": "code",
   "execution_count": 9,
   "id": "136309f0",
   "metadata": {},
   "outputs": [
    {
     "name": "stdout",
     "output_type": "stream",
     "text": [
      "                                     STATISTIC Label  Year         Sex  \\\n",
      "0  Factors that influenced the purchase of an Ele...  2019  Both sexes   \n",
      "1  Factors that influenced the purchase of an Ele...  2019  Both sexes   \n",
      "2  Factors that influenced the purchase of an Ele...  2019  Both sexes   \n",
      "3  Factors that influenced the purchase of an Ele...  2019  Both sexes   \n",
      "4  Factors that influenced the purchase of an Ele...  2019  Both sexes   \n",
      "\n",
      "                   Influencing factor of EV purchase  VALUE%  \n",
      "0  Making more of a contribution to a better envi...    71.8  \n",
      "1                        Better affordability to run    77.8  \n",
      "2                                        Reduced tax     0.0  \n",
      "3                    Availabitity of purchase grants     0.0  \n",
      "4                            Reduced noise pollution    17.2  \n"
     ]
    },
    {
     "data": {
      "text/plain": [
       "pandas.core.frame.DataFrame"
      ]
     },
     "execution_count": 9,
     "metadata": {},
     "output_type": "execute_result"
    }
   ],
   "source": [
    "Influence = Influence.fillna(0)\n",
    "print(Influence.head())\n",
    "type(Influence)"
   ]
  },
  {
   "cell_type": "code",
   "execution_count": 10,
   "id": "43615352",
   "metadata": {},
   "outputs": [
    {
     "data": {
      "text/html": [
       "<div>\n",
       "<style scoped>\n",
       "    .dataframe tbody tr th:only-of-type {\n",
       "        vertical-align: middle;\n",
       "    }\n",
       "\n",
       "    .dataframe tbody tr th {\n",
       "        vertical-align: top;\n",
       "    }\n",
       "\n",
       "    .dataframe thead th {\n",
       "        text-align: right;\n",
       "    }\n",
       "</style>\n",
       "<table border=\"1\" class=\"dataframe\">\n",
       "  <thead>\n",
       "    <tr style=\"text-align: right;\">\n",
       "      <th></th>\n",
       "      <th>Statistic Label</th>\n",
       "      <th>Year</th>\n",
       "      <th>Degree of Urbanisation</th>\n",
       "      <th>VALUE%</th>\n",
       "    </tr>\n",
       "  </thead>\n",
       "  <tbody>\n",
       "    <tr>\n",
       "      <th>0</th>\n",
       "      <td>False</td>\n",
       "      <td>False</td>\n",
       "      <td>False</td>\n",
       "      <td>False</td>\n",
       "    </tr>\n",
       "    <tr>\n",
       "      <th>1</th>\n",
       "      <td>False</td>\n",
       "      <td>False</td>\n",
       "      <td>False</td>\n",
       "      <td>False</td>\n",
       "    </tr>\n",
       "    <tr>\n",
       "      <th>2</th>\n",
       "      <td>False</td>\n",
       "      <td>False</td>\n",
       "      <td>False</td>\n",
       "      <td>False</td>\n",
       "    </tr>\n",
       "    <tr>\n",
       "      <th>3</th>\n",
       "      <td>False</td>\n",
       "      <td>False</td>\n",
       "      <td>False</td>\n",
       "      <td>False</td>\n",
       "    </tr>\n",
       "    <tr>\n",
       "      <th>4</th>\n",
       "      <td>False</td>\n",
       "      <td>False</td>\n",
       "      <td>False</td>\n",
       "      <td>False</td>\n",
       "    </tr>\n",
       "    <tr>\n",
       "      <th>5</th>\n",
       "      <td>False</td>\n",
       "      <td>False</td>\n",
       "      <td>False</td>\n",
       "      <td>False</td>\n",
       "    </tr>\n",
       "    <tr>\n",
       "      <th>6</th>\n",
       "      <td>False</td>\n",
       "      <td>False</td>\n",
       "      <td>False</td>\n",
       "      <td>False</td>\n",
       "    </tr>\n",
       "    <tr>\n",
       "      <th>7</th>\n",
       "      <td>False</td>\n",
       "      <td>False</td>\n",
       "      <td>False</td>\n",
       "      <td>False</td>\n",
       "    </tr>\n",
       "    <tr>\n",
       "      <th>8</th>\n",
       "      <td>False</td>\n",
       "      <td>False</td>\n",
       "      <td>False</td>\n",
       "      <td>False</td>\n",
       "    </tr>\n",
       "    <tr>\n",
       "      <th>9</th>\n",
       "      <td>False</td>\n",
       "      <td>False</td>\n",
       "      <td>False</td>\n",
       "      <td>False</td>\n",
       "    </tr>\n",
       "    <tr>\n",
       "      <th>10</th>\n",
       "      <td>False</td>\n",
       "      <td>False</td>\n",
       "      <td>False</td>\n",
       "      <td>False</td>\n",
       "    </tr>\n",
       "    <tr>\n",
       "      <th>11</th>\n",
       "      <td>False</td>\n",
       "      <td>False</td>\n",
       "      <td>False</td>\n",
       "      <td>False</td>\n",
       "    </tr>\n",
       "    <tr>\n",
       "      <th>12</th>\n",
       "      <td>False</td>\n",
       "      <td>False</td>\n",
       "      <td>False</td>\n",
       "      <td>False</td>\n",
       "    </tr>\n",
       "    <tr>\n",
       "      <th>13</th>\n",
       "      <td>False</td>\n",
       "      <td>False</td>\n",
       "      <td>False</td>\n",
       "      <td>False</td>\n",
       "    </tr>\n",
       "    <tr>\n",
       "      <th>14</th>\n",
       "      <td>False</td>\n",
       "      <td>False</td>\n",
       "      <td>False</td>\n",
       "      <td>False</td>\n",
       "    </tr>\n",
       "    <tr>\n",
       "      <th>15</th>\n",
       "      <td>False</td>\n",
       "      <td>False</td>\n",
       "      <td>False</td>\n",
       "      <td>False</td>\n",
       "    </tr>\n",
       "  </tbody>\n",
       "</table>\n",
       "</div>"
      ],
      "text/plain": [
       "    Statistic Label   Year  Degree of Urbanisation  VALUE%\n",
       "0             False  False                   False   False\n",
       "1             False  False                   False   False\n",
       "2             False  False                   False   False\n",
       "3             False  False                   False   False\n",
       "4             False  False                   False   False\n",
       "5             False  False                   False   False\n",
       "6             False  False                   False   False\n",
       "7             False  False                   False   False\n",
       "8             False  False                   False   False\n",
       "9             False  False                   False   False\n",
       "10            False  False                   False   False\n",
       "11            False  False                   False   False\n",
       "12            False  False                   False   False\n",
       "13            False  False                   False   False\n",
       "14            False  False                   False   False\n",
       "15            False  False                   False   False"
      ]
     },
     "execution_count": 10,
     "metadata": {},
     "output_type": "execute_result"
    }
   ],
   "source": [
    "from urllib.request import urlretrieve\n",
    "url = \"https://ws.cso.ie/public/api.restful/PxStat.Data.Cube_API.ReadDataset/NTA45/CSV/1.0/en\"\n",
    "urlretrieve(url, 'owns_a_EV_2019_2021.csv')\n",
    "df = pd.read_csv('owns_a_EV_2019_2021.csv')\n",
    "df.rename(columns={\"VALUE\" : \"VALUE%\"}, inplace=True)\n",
    "Owns_EV_Pop = df[[\"Statistic Label\", \"Year\", \"Degree of Urbanisation\", \"VALUE%\"]]\n",
    "Owns_EV_Pop.isnull()"
   ]
  },
  {
   "cell_type": "code",
   "execution_count": 11,
   "id": "bcc37c2d",
   "metadata": {},
   "outputs": [
    {
     "name": "stdout",
     "output_type": "stream",
     "text": [
      "                 Statistic Label  Year       Degree of Urbanisation  VALUE%\n",
      "0  Owns an Electric Vehicle (EV)  2019            Densely populated     1.6\n",
      "1  Owns an Electric Vehicle (EV)  2019       Intermediate populated     1.6\n",
      "2  Owns an Electric Vehicle (EV)  2019             Thinly populated     1.3\n",
      "3  Owns an Electric Vehicle (EV)  2019  All degrees of urbanisation     1.5\n",
      "4  Owns an Electric Vehicle (EV)  2021            Densely populated     4.8\n"
     ]
    },
    {
     "data": {
      "text/plain": [
       "pandas.core.frame.DataFrame"
      ]
     },
     "execution_count": 11,
     "metadata": {},
     "output_type": "execute_result"
    }
   ],
   "source": [
    "print(Owns_EV_Pop.head())\n",
    "type(Owns_EV_Pop)"
   ]
  },
  {
   "cell_type": "code",
   "execution_count": 12,
   "id": "3f333700",
   "metadata": {},
   "outputs": [
    {
     "data": {
      "text/html": [
       "<div>\n",
       "<style scoped>\n",
       "    .dataframe tbody tr th:only-of-type {\n",
       "        vertical-align: middle;\n",
       "    }\n",
       "\n",
       "    .dataframe tbody tr th {\n",
       "        vertical-align: top;\n",
       "    }\n",
       "\n",
       "    .dataframe thead th {\n",
       "        text-align: right;\n",
       "    }\n",
       "</style>\n",
       "<table border=\"1\" class=\"dataframe\">\n",
       "  <thead>\n",
       "    <tr style=\"text-align: right;\">\n",
       "      <th></th>\n",
       "      <th>Statistic Label</th>\n",
       "      <th>Year</th>\n",
       "      <th>Sex</th>\n",
       "      <th>Age Group</th>\n",
       "      <th>VALUE%</th>\n",
       "    </tr>\n",
       "  </thead>\n",
       "  <tbody>\n",
       "    <tr>\n",
       "      <th>0</th>\n",
       "      <td>False</td>\n",
       "      <td>False</td>\n",
       "      <td>False</td>\n",
       "      <td>False</td>\n",
       "      <td>False</td>\n",
       "    </tr>\n",
       "    <tr>\n",
       "      <th>1</th>\n",
       "      <td>False</td>\n",
       "      <td>False</td>\n",
       "      <td>False</td>\n",
       "      <td>False</td>\n",
       "      <td>False</td>\n",
       "    </tr>\n",
       "    <tr>\n",
       "      <th>2</th>\n",
       "      <td>False</td>\n",
       "      <td>False</td>\n",
       "      <td>False</td>\n",
       "      <td>False</td>\n",
       "      <td>False</td>\n",
       "    </tr>\n",
       "    <tr>\n",
       "      <th>3</th>\n",
       "      <td>False</td>\n",
       "      <td>False</td>\n",
       "      <td>False</td>\n",
       "      <td>False</td>\n",
       "      <td>False</td>\n",
       "    </tr>\n",
       "    <tr>\n",
       "      <th>4</th>\n",
       "      <td>False</td>\n",
       "      <td>False</td>\n",
       "      <td>False</td>\n",
       "      <td>False</td>\n",
       "      <td>False</td>\n",
       "    </tr>\n",
       "    <tr>\n",
       "      <th>...</th>\n",
       "      <td>...</td>\n",
       "      <td>...</td>\n",
       "      <td>...</td>\n",
       "      <td>...</td>\n",
       "      <td>...</td>\n",
       "    </tr>\n",
       "    <tr>\n",
       "      <th>105</th>\n",
       "      <td>False</td>\n",
       "      <td>False</td>\n",
       "      <td>False</td>\n",
       "      <td>False</td>\n",
       "      <td>False</td>\n",
       "    </tr>\n",
       "    <tr>\n",
       "      <th>106</th>\n",
       "      <td>False</td>\n",
       "      <td>False</td>\n",
       "      <td>False</td>\n",
       "      <td>False</td>\n",
       "      <td>False</td>\n",
       "    </tr>\n",
       "    <tr>\n",
       "      <th>107</th>\n",
       "      <td>False</td>\n",
       "      <td>False</td>\n",
       "      <td>False</td>\n",
       "      <td>False</td>\n",
       "      <td>False</td>\n",
       "    </tr>\n",
       "    <tr>\n",
       "      <th>108</th>\n",
       "      <td>False</td>\n",
       "      <td>False</td>\n",
       "      <td>False</td>\n",
       "      <td>False</td>\n",
       "      <td>False</td>\n",
       "    </tr>\n",
       "    <tr>\n",
       "      <th>109</th>\n",
       "      <td>False</td>\n",
       "      <td>False</td>\n",
       "      <td>False</td>\n",
       "      <td>False</td>\n",
       "      <td>False</td>\n",
       "    </tr>\n",
       "  </tbody>\n",
       "</table>\n",
       "<p>110 rows × 5 columns</p>\n",
       "</div>"
      ],
      "text/plain": [
       "     Statistic Label   Year    Sex  Age Group  VALUE%\n",
       "0              False  False  False      False   False\n",
       "1              False  False  False      False   False\n",
       "2              False  False  False      False   False\n",
       "3              False  False  False      False   False\n",
       "4              False  False  False      False   False\n",
       "..               ...    ...    ...        ...     ...\n",
       "105            False  False  False      False   False\n",
       "106            False  False  False      False   False\n",
       "107            False  False  False      False   False\n",
       "108            False  False  False      False   False\n",
       "109            False  False  False      False   False\n",
       "\n",
       "[110 rows x 5 columns]"
      ]
     },
     "execution_count": 12,
     "metadata": {},
     "output_type": "execute_result"
    }
   ],
   "source": [
    "url2 = \"https://ws.cso.ie/public/api.restful/PxStat.Data.Cube_API.ReadDataset/NTA77/CSV/1.0/en\"\n",
    "urlretrieve(url2, 'Reason_Not_Owning_EV.csv')\n",
    "df = pd.read_csv('Reason_Not_Owning_EV.csv')\n",
    "df.rename(columns={\"VALUE\" : \"VALUE%\"}, inplace=True)\n",
    "Reason = df[[\"Statistic Label\", \"Year\", \"Sex\", \"Age Group\", \"VALUE%\"]]\n",
    "Reason.isnull()"
   ]
  },
  {
   "cell_type": "code",
   "execution_count": 13,
   "id": "792faaeb",
   "metadata": {},
   "outputs": [
    {
     "name": "stdout",
     "output_type": "stream",
     "text": [
      "  Statistic Label  Year   Sex          Age Group  VALUE%\n",
      "0            Cost  2021  Male      18 - 29 years    56.6\n",
      "1            Cost  2021  Male      30 - 44 years    68.4\n",
      "2            Cost  2021  Male      45 - 59 years    61.2\n",
      "3            Cost  2021  Male      60 - 74 years    69.2\n",
      "4            Cost  2021  Male  75 years and over    60.0\n"
     ]
    },
    {
     "data": {
      "text/plain": [
       "pandas.core.frame.DataFrame"
      ]
     },
     "execution_count": 13,
     "metadata": {},
     "output_type": "execute_result"
    }
   ],
   "source": [
    "print(Reason.head())\n",
    "type(Reason)"
   ]
  },
  {
   "cell_type": "code",
   "execution_count": 14,
   "id": "56553c6d",
   "metadata": {},
   "outputs": [
    {
     "name": "stdout",
     "output_type": "stream",
     "text": [
      "                                     STAT  Year     Sex          Age_Group  \\\n",
      "0           Owns an Electric Vehicle (EV)  2019    Male      18 - 29 years   \n",
      "1           Owns an Electric Vehicle (EV)  2019    Male      30 - 44 years   \n",
      "2           Owns an Electric Vehicle (EV)  2019    Male      45 - 59 years   \n",
      "3           Owns an Electric Vehicle (EV)  2019    Male      60 - 74 years   \n",
      "4           Owns an Electric Vehicle (EV)  2019    Male  75 years and over   \n",
      "5           Owns an Electric Vehicle (EV)  2019  Female      18 - 29 years   \n",
      "6           Owns an Electric Vehicle (EV)  2019  Female      30 - 44 years   \n",
      "7           Owns an Electric Vehicle (EV)  2019  Female      45 - 59 years   \n",
      "8           Owns an Electric Vehicle (EV)  2019  Female      60 - 74 years   \n",
      "9           Owns an Electric Vehicle (EV)  2019  Female  75 years and over   \n",
      "10  Does not own an Electric Vehicle (EV)  2019    Male      18 - 29 years   \n",
      "11  Does not own an Electric Vehicle (EV)  2019    Male      30 - 44 years   \n",
      "12  Does not own an Electric Vehicle (EV)  2019    Male      45 - 59 years   \n",
      "13  Does not own an Electric Vehicle (EV)  2019    Male      60 - 74 years   \n",
      "14  Does not own an Electric Vehicle (EV)  2019    Male  75 years and over   \n",
      "15  Does not own an Electric Vehicle (EV)  2019  Female      18 - 29 years   \n",
      "16  Does not own an Electric Vehicle (EV)  2019  Female      30 - 44 years   \n",
      "17  Does not own an Electric Vehicle (EV)  2019  Female      45 - 59 years   \n",
      "18  Does not own an Electric Vehicle (EV)  2019  Female      60 - 74 years   \n",
      "19  Does not own an Electric Vehicle (EV)  2019  Female  75 years and over   \n",
      "20          Owns an Electric Vehicle (EV)  2021    Male      18 - 29 years   \n",
      "21          Owns an Electric Vehicle (EV)  2021    Male      30 - 44 years   \n",
      "22          Owns an Electric Vehicle (EV)  2021    Male      45 - 59 years   \n",
      "23          Owns an Electric Vehicle (EV)  2021    Male      60 - 74 years   \n",
      "24          Owns an Electric Vehicle (EV)  2021    Male  75 years and over   \n",
      "25          Owns an Electric Vehicle (EV)  2021  Female      18 - 29 years   \n",
      "26          Owns an Electric Vehicle (EV)  2021  Female      30 - 44 years   \n",
      "27          Owns an Electric Vehicle (EV)  2021  Female      45 - 59 years   \n",
      "28          Owns an Electric Vehicle (EV)  2021  Female      60 - 74 years   \n",
      "29          Owns an Electric Vehicle (EV)  2021  Female  75 years and over   \n",
      "30  Does not own an Electric Vehicle (EV)  2021    Male      18 - 29 years   \n",
      "31  Does not own an Electric Vehicle (EV)  2021    Male      30 - 44 years   \n",
      "32  Does not own an Electric Vehicle (EV)  2021    Male      45 - 59 years   \n",
      "33  Does not own an Electric Vehicle (EV)  2021    Male      60 - 74 years   \n",
      "34  Does not own an Electric Vehicle (EV)  2021    Male  75 years and over   \n",
      "35  Does not own an Electric Vehicle (EV)  2021  Female      18 - 29 years   \n",
      "36  Does not own an Electric Vehicle (EV)  2021  Female      30 - 44 years   \n",
      "37  Does not own an Electric Vehicle (EV)  2021  Female      45 - 59 years   \n",
      "38  Does not own an Electric Vehicle (EV)  2021  Female      60 - 74 years   \n",
      "39  Does not own an Electric Vehicle (EV)  2021  Female  75 years and over   \n",
      "\n",
      "    VALUE%  \n",
      "0      0.8  \n",
      "1      1.1  \n",
      "2      2.3  \n",
      "3      1.6  \n",
      "4      0.8  \n",
      "5      0.9  \n",
      "6      1.4  \n",
      "7      1.7  \n",
      "8      2.7  \n",
      "9      0.2  \n",
      "10    99.2  \n",
      "11    98.9  \n",
      "12    97.7  \n",
      "13    98.4  \n",
      "14    99.2  \n",
      "15    99.1  \n",
      "16    98.6  \n",
      "17    98.3  \n",
      "18    97.3  \n",
      "19    99.8  \n",
      "20     1.2  \n",
      "21     4.1  \n",
      "22     4.5  \n",
      "23     4.9  \n",
      "24     3.1  \n",
      "25     1.8  \n",
      "26     3.2  \n",
      "27     2.8  \n",
      "28     3.3  \n",
      "29     2.0  \n",
      "30    98.8  \n",
      "31    95.9  \n",
      "32    95.5  \n",
      "33    95.1  \n",
      "34    96.9  \n",
      "35    98.2  \n",
      "36    96.8  \n",
      "37    97.2  \n",
      "38    96.7  \n",
      "39    98.0  \n"
     ]
    }
   ],
   "source": [
    "EV_Ownership_2019_2021 = pd.concat([EV_2019, EV_2021], axis = \"index\", ignore_index = True)\n",
    "EV_Ownership_2019_2021.rename(columns={\"Statistic Label\": \"STAT\", \"Age Group\":\"Age_Group\"}, inplace=True)\n",
    "print(EV_Ownership_2019_2021)"
   ]
  },
  {
   "cell_type": "code",
   "execution_count": 15,
   "id": "af23ba86",
   "metadata": {},
   "outputs": [
    {
     "data": {
      "image/png": "[encoded data removed]",
      "text/plain": [
       "<Figure size 432x288 with 1 Axes>"
      ]
     },
     "metadata": {
      "needs_background": "light"
     },
     "output_type": "display_data"
    }
   ],
   "source": [
    "EV_Ownership_Only = EV_Ownership_2019_2021[EV_Ownership_2019_2021.STAT != 'Does not own an Electric Vehicle (EV)']\n",
    "sns.boxplot(x = \"Sex\", y = \"VALUE%\", hue=\"Year\", data = EV_Ownership_Only)\n",
    "plt.show()"
   ]
  },
  {
   "cell_type": "code",
   "execution_count": 16,
   "id": "266fe6b3",
   "metadata": {},
   "outputs": [
    {
     "data": {
      "image/png": "[encoded data removed]",
      "text/plain": [
       "<Figure size 432x288 with 1 Axes>"
      ]
     },
     "metadata": {
      "needs_background": "light"
     },
     "output_type": "display_data"
    }
   ],
   "source": [
    "hue_colors = {2019 : \"Red\",\n",
    "             2021 : \"Green\"}\n",
    "sns.barplot(x = \"Age_Group\", y = \"VALUE%\", hue=\"Year\", palette = hue_colors, data = EV_Ownership_Only)\n",
    "plt.show()"
   ]
  },
  {
   "cell_type": "code",
   "execution_count": 17,
   "id": "2bca35db",
   "metadata": {},
   "outputs": [
    {
     "name": "stdout",
     "output_type": "stream",
     "text": [
      "                            STAT  Year   Sex      Age_Group  VALUE%_Own  \\\n",
      "0  Owns an Electric Vehicle (EV)  2019  Male  18 - 29 years         0.8   \n",
      "1  Owns an Electric Vehicle (EV)  2019  Male  18 - 29 years         0.8   \n",
      "2  Owns an Electric Vehicle (EV)  2019  Male  18 - 29 years         0.8   \n",
      "3  Owns an Electric Vehicle (EV)  2019  Male  18 - 29 years         0.8   \n",
      "4  Owns an Electric Vehicle (EV)  2019  Male  18 - 29 years         0.8   \n",
      "\n",
      "                                     STATISTIC Label  \\\n",
      "0  Factors that influenced the purchase of an Ele...   \n",
      "1  Factors that influenced the purchase of an Ele...   \n",
      "2  Factors that influenced the purchase of an Ele...   \n",
      "3  Factors that influenced the purchase of an Ele...   \n",
      "4  Factors that influenced the purchase of an Ele...   \n",
      "\n",
      "                   Influencing factor of EV purchase  VALUE%_Inf  \n",
      "0  Making more of a contribution to a better envi...        80.3  \n",
      "1                        Better affordability to run        75.6  \n",
      "2                                        Reduced tax         0.0  \n",
      "3                    Availabitity of purchase grants         0.0  \n",
      "4                            Reduced noise pollution        21.2  \n"
     ]
    }
   ],
   "source": [
    "ownership_Influence = pd.merge(EV_Ownership_2019_2021, Influence, on = [\"Year\", \"Sex\"], how = \"left\"\n",
    "                              , suffixes=(\"_Own\", \"_Inf\"))\n",
    "print(ownership_Influence.head())"
   ]
  },
  {
   "cell_type": "code",
   "execution_count": 18,
   "id": "733640f9",
   "metadata": {},
   "outputs": [
    {
     "name": "stdout",
     "output_type": "stream",
     "text": [
      "                            STAT  Year   Sex      Age_Group  VALUE%_Own  \\\n",
      "0  Owns an Electric Vehicle (EV)  2019  Male  18 - 29 years         0.8   \n",
      "1  Owns an Electric Vehicle (EV)  2019  Male  18 - 29 years         0.8   \n",
      "2  Owns an Electric Vehicle (EV)  2019  Male  18 - 29 years         0.8   \n",
      "3  Owns an Electric Vehicle (EV)  2019  Male  18 - 29 years         0.8   \n",
      "4  Owns an Electric Vehicle (EV)  2019  Male  18 - 29 years         0.8   \n",
      "\n",
      "                                     STATISTIC Label  \\\n",
      "0  Factors that influenced the purchase of an Ele...   \n",
      "1  Factors that influenced the purchase of an Ele...   \n",
      "2  Factors that influenced the purchase of an Ele...   \n",
      "3  Factors that influenced the purchase of an Ele...   \n",
      "4  Factors that influenced the purchase of an Ele...   \n",
      "\n",
      "                                  Influencing_factor  VALUE%_Inf  \n",
      "0  Making more of a contribution to a better envi...        80.3  \n",
      "1                        Better affordability to run        75.6  \n",
      "2                                        Reduced tax         0.0  \n",
      "3                    Availabitity of purchase grants         0.0  \n",
      "4                            Reduced noise pollution        21.2  \n"
     ]
    }
   ],
   "source": [
    "ownership_Influence.rename(columns={\"Statistic Label\": \"STAT\", \"Age Group\":\"Age_Group\", \"Influencing factor of EV purchase\":\"Influencing_factor\"}, inplace=True)\n",
    "print(ownership_Influence.head())"
   ]
  },
  {
   "cell_type": "code",
   "execution_count": 19,
   "id": "8ee97bf9",
   "metadata": {},
   "outputs": [
    {
     "name": "stdout",
     "output_type": "stream",
     "text": [
      "                              STAT  Year     Sex          Age_Group  \\\n",
      "0    Owns an Electric Vehicle (EV)  2019    Male      18 - 29 years   \n",
      "1    Owns an Electric Vehicle (EV)  2019    Male      18 - 29 years   \n",
      "2    Owns an Electric Vehicle (EV)  2019    Male      18 - 29 years   \n",
      "3    Owns an Electric Vehicle (EV)  2019    Male      18 - 29 years   \n",
      "4    Owns an Electric Vehicle (EV)  2019    Male      18 - 29 years   \n",
      "..                             ...   ...     ...                ...   \n",
      "325  Owns an Electric Vehicle (EV)  2021  Female  75 years and over   \n",
      "326  Owns an Electric Vehicle (EV)  2021  Female  75 years and over   \n",
      "327  Owns an Electric Vehicle (EV)  2021  Female  75 years and over   \n",
      "328  Owns an Electric Vehicle (EV)  2021  Female  75 years and over   \n",
      "329  Owns an Electric Vehicle (EV)  2021  Female  75 years and over   \n",
      "\n",
      "     VALUE%_Own                                    STATISTIC Label  \\\n",
      "0           0.8  Factors that influenced the purchase of an Ele...   \n",
      "1           0.8  Factors that influenced the purchase of an Ele...   \n",
      "2           0.8  Factors that influenced the purchase of an Ele...   \n",
      "3           0.8  Factors that influenced the purchase of an Ele...   \n",
      "4           0.8  Factors that influenced the purchase of an Ele...   \n",
      "..          ...                                                ...   \n",
      "325         2.0  Factors that influenced the purchase of an Ele...   \n",
      "326         2.0  Factors that influenced the purchase of an Ele...   \n",
      "327         2.0  Factors that influenced the purchase of an Ele...   \n",
      "328         2.0  Factors that influenced the purchase of an Ele...   \n",
      "329         2.0  Factors that influenced the purchase of an Ele...   \n",
      "\n",
      "                                    Influencing_factor  VALUE%_Inf  \n",
      "0    Making more of a contribution to a better envi...        80.3  \n",
      "1                          Better affordability to run        75.6  \n",
      "2                                          Reduced tax         0.0  \n",
      "3                      Availabitity of purchase grants         0.0  \n",
      "4                              Reduced noise pollution        21.2  \n",
      "..                                                 ...         ...  \n",
      "325                           Improved health from use         8.8  \n",
      "326                                       How it looks         5.2  \n",
      "327  More availability of overnight charging at low...         2.3  \n",
      "328                                     Toll discounts         0.0  \n",
      "329                          Other influencing factors        13.7  \n",
      "\n",
      "[220 rows x 8 columns]\n"
     ]
    }
   ],
   "source": [
    "ownership_Influence = ownership_Influence[ownership_Influence.STAT != 'Does not own an Electric Vehicle (EV)']\n",
    "print(ownership_Influence)"
   ]
  },
  {
   "cell_type": "code",
   "execution_count": 48,
   "id": "c26a1878",
   "metadata": {},
   "outputs": [
    {
     "data": {
      "text/plain": [
       "<matplotlib.legend.Legend at 0x20ece9b72e0>"
      ]
     },
     "execution_count": 48,
     "metadata": {},
     "output_type": "execute_result"
    },
    {
     "data": {
      "image/png": "[encoded data removed]",
      "text/plain": [
       "<Figure size 432x288 with 1 Axes>"
      ]
     },
     "metadata": {},
     "output_type": "display_data"
    }
   ],
   "source": [
    "sns.scatterplot(x = \"VALUE%_Inf\", y = \"VALUE%_Own\", hue=\"Age_Group\", data = ownership_Influence)\n",
    "plt.xticks(rotation=90)\n",
    "plt.legend(bbox_to_anchor=(1.05, 1), loc='upper left', borderaxespad=0)"
   ]
  },
  {
   "cell_type": "code",
   "execution_count": 55,
   "id": "7d61ea5f",
   "metadata": {},
   "outputs": [
    {
     "data": {
      "image/png": "[encoded data removed]",
      "text/plain": [
       "<Figure size 2101.97x360 with 5 Axes>"
      ]
     },
     "metadata": {},
     "output_type": "display_data"
    }
   ],
   "source": [
    "sns.lmplot(x=\"VALUE%_Inf\", y=\"VALUE%_Own\", col=\"Age_Group\", hue=\"Influencing_factor\", data=ownership_Influence)\n",
    "plt.show()"
   ]
  },
  {
   "cell_type": "code",
   "execution_count": 21,
   "id": "f657c0fe",
   "metadata": {},
   "outputs": [
    {
     "name": "stdout",
     "output_type": "stream",
     "text": [
      "                       Statistic Label_Pop  Year       Degree of Urbanisation  \\\n",
      "0            Owns an Electric Vehicle (EV)  2019            Densely populated   \n",
      "1            Owns an Electric Vehicle (EV)  2019       Intermediate populated   \n",
      "2            Owns an Electric Vehicle (EV)  2019             Thinly populated   \n",
      "3            Owns an Electric Vehicle (EV)  2019  All degrees of urbanisation   \n",
      "4            Owns an Electric Vehicle (EV)  2021            Densely populated   \n",
      "..                                     ...   ...                          ...   \n",
      "883  Does not own an Electric Vehicle (EV)  2021  All degrees of urbanisation   \n",
      "884  Does not own an Electric Vehicle (EV)  2021  All degrees of urbanisation   \n",
      "885  Does not own an Electric Vehicle (EV)  2021  All degrees of urbanisation   \n",
      "886  Does not own an Electric Vehicle (EV)  2021  All degrees of urbanisation   \n",
      "887  Does not own an Electric Vehicle (EV)  2021  All degrees of urbanisation   \n",
      "\n",
      "     VALUE%_Pop Statistic Label_Rea     Sex          Age Group  VALUE%_Rea  \n",
      "0           1.6                 NaN     NaN                NaN         NaN  \n",
      "1           1.6                 NaN     NaN                NaN         NaN  \n",
      "2           1.3                 NaN     NaN                NaN         NaN  \n",
      "3           1.5                 NaN     NaN                NaN         NaN  \n",
      "4           4.8                Cost    Male      18 - 29 years        56.6  \n",
      "..          ...                 ...     ...                ...         ...  \n",
      "883        96.8               Other  Female      18 - 29 years         8.5  \n",
      "884        96.8               Other  Female      30 - 44 years         4.8  \n",
      "885        96.8               Other  Female      45 - 59 years         9.2  \n",
      "886        96.8               Other  Female      60 - 74 years         9.3  \n",
      "887        96.8               Other  Female  75 years and over        10.2  \n",
      "\n",
      "[888 rows x 8 columns]\n"
     ]
    }
   ],
   "source": [
    "Pop_Reason = pd.merge(Owns_EV_Pop, Reason, on = [\"Year\"], how = \"left\"\n",
    "                              , suffixes=(\"_Pop\", \"_Rea\"))\n",
    "print(Pop_Reason)"
   ]
  },
  {
   "cell_type": "code",
   "execution_count": 23,
   "id": "af1e49ed",
   "metadata": {},
   "outputs": [
    {
     "name": "stdout",
     "output_type": "stream",
     "text": [
      "                        STAT_Pop  Year       Degree of Urbanisation  \\\n",
      "0  Owns an Electric Vehicle (EV)  2019            Densely populated   \n",
      "1  Owns an Electric Vehicle (EV)  2019       Intermediate populated   \n",
      "2  Owns an Electric Vehicle (EV)  2019             Thinly populated   \n",
      "3  Owns an Electric Vehicle (EV)  2019  All degrees of urbanisation   \n",
      "4  Owns an Electric Vehicle (EV)  2021            Densely populated   \n",
      "\n",
      "   VALUE%_Pop Statistic Label_Rea   Sex      Age Group  VALUE%_Rea  \n",
      "0         1.6                 NaN   NaN            NaN         NaN  \n",
      "1         1.6                 NaN   NaN            NaN         NaN  \n",
      "2         1.3                 NaN   NaN            NaN         NaN  \n",
      "3         1.5                 NaN   NaN            NaN         NaN  \n",
      "4         4.8                Cost  Male  18 - 29 years        56.6  \n"
     ]
    }
   ],
   "source": [
    "Pop_Reason.rename(columns={\"Statistic Label_Pop\": \"STAT_Pop\"}, inplace=True)\n",
    "print(Pop_Reason.head())"
   ]
  },
  {
   "cell_type": "code",
   "execution_count": 24,
   "id": "8d067fef",
   "metadata": {},
   "outputs": [
    {
     "name": "stdout",
     "output_type": "stream",
     "text": [
      "                                  STAT_Pop  Year       Degree of Urbanisation  \\\n",
      "444  Does not own an Electric Vehicle (EV)  2019            Densely populated   \n",
      "445  Does not own an Electric Vehicle (EV)  2019       Intermediate populated   \n",
      "446  Does not own an Electric Vehicle (EV)  2019             Thinly populated   \n",
      "447  Does not own an Electric Vehicle (EV)  2019  All degrees of urbanisation   \n",
      "448  Does not own an Electric Vehicle (EV)  2021            Densely populated   \n",
      "..                                     ...   ...                          ...   \n",
      "883  Does not own an Electric Vehicle (EV)  2021  All degrees of urbanisation   \n",
      "884  Does not own an Electric Vehicle (EV)  2021  All degrees of urbanisation   \n",
      "885  Does not own an Electric Vehicle (EV)  2021  All degrees of urbanisation   \n",
      "886  Does not own an Electric Vehicle (EV)  2021  All degrees of urbanisation   \n",
      "887  Does not own an Electric Vehicle (EV)  2021  All degrees of urbanisation   \n",
      "\n",
      "     VALUE%_Pop Statistic Label_Rea     Sex          Age Group  VALUE%_Rea  \n",
      "444        98.4                 NaN     NaN                NaN         NaN  \n",
      "445        98.4                 NaN     NaN                NaN         NaN  \n",
      "446        98.7                 NaN     NaN                NaN         NaN  \n",
      "447        98.5                 NaN     NaN                NaN         NaN  \n",
      "448        95.2                Cost    Male      18 - 29 years        56.6  \n",
      "..          ...                 ...     ...                ...         ...  \n",
      "883        96.8               Other  Female      18 - 29 years         8.5  \n",
      "884        96.8               Other  Female      30 - 44 years         4.8  \n",
      "885        96.8               Other  Female      45 - 59 years         9.2  \n",
      "886        96.8               Other  Female      60 - 74 years         9.3  \n",
      "887        96.8               Other  Female  75 years and over        10.2  \n",
      "\n",
      "[444 rows x 8 columns]\n"
     ]
    }
   ],
   "source": [
    "Pop_Reason = Pop_Reason[Pop_Reason.STAT_Pop != 'Owns an Electric Vehicle (EV)']\n",
    "print(Pop_Reason)"
   ]
  },
  {
   "cell_type": "code",
   "execution_count": 34,
   "id": "7dd521fd",
   "metadata": {},
   "outputs": [
    {
     "name": "stdout",
     "output_type": "stream",
     "text": [
      "                                  STAT_Pop  Year       Degree of Urbanisation  \\\n",
      "4    Does not own an Electric Vehicle (EV)  2021            Densely populated   \n",
      "5    Does not own an Electric Vehicle (EV)  2021            Densely populated   \n",
      "6    Does not own an Electric Vehicle (EV)  2021            Densely populated   \n",
      "7    Does not own an Electric Vehicle (EV)  2021            Densely populated   \n",
      "8    Does not own an Electric Vehicle (EV)  2021            Densely populated   \n",
      "..                                     ...   ...                          ...   \n",
      "439  Does not own an Electric Vehicle (EV)  2021  All degrees of urbanisation   \n",
      "440  Does not own an Electric Vehicle (EV)  2021  All degrees of urbanisation   \n",
      "441  Does not own an Electric Vehicle (EV)  2021  All degrees of urbanisation   \n",
      "442  Does not own an Electric Vehicle (EV)  2021  All degrees of urbanisation   \n",
      "443  Does not own an Electric Vehicle (EV)  2021  All degrees of urbanisation   \n",
      "\n",
      "     VALUE%_Pop Statistic Label_Rea     Sex          Age Group  VALUE%_Rea  \n",
      "4          95.2                Cost    Male      18 - 29 years        56.6  \n",
      "5          95.2                Cost    Male      30 - 44 years        68.4  \n",
      "6          95.2                Cost    Male      45 - 59 years        61.2  \n",
      "7          95.2                Cost    Male      60 - 74 years        69.2  \n",
      "8          95.2                Cost    Male  75 years and over        60.0  \n",
      "..          ...                 ...     ...                ...         ...  \n",
      "439        96.8               Other  Female      18 - 29 years         8.5  \n",
      "440        96.8               Other  Female      30 - 44 years         4.8  \n",
      "441        96.8               Other  Female      45 - 59 years         9.2  \n",
      "442        96.8               Other  Female      60 - 74 years         9.3  \n",
      "443        96.8               Other  Female  75 years and over        10.2  \n",
      "\n",
      "[440 rows x 8 columns]\n"
     ]
    }
   ],
   "source": [
    "Pop_Reason = Pop_Reason[Pop_Reason.Year != 2019]\n",
    "print(Pop_Reason)"
   ]
  },
  {
   "cell_type": "code",
   "execution_count": 73,
   "id": "0ace5ec5",
   "metadata": {},
   "outputs": [
    {
     "data": {
      "text/plain": [
       "<function matplotlib.pyplot.show(close=None, block=None)>"
      ]
     },
     "execution_count": 73,
     "metadata": {},
     "output_type": "execute_result"
    },
    {
     "data": {
      "image/png": "[encoded data removed]",
      "text/plain": [
       "<Figure size 432x288 with 2 Axes>"
      ]
     },
     "metadata": {
      "needs_background": "light"
     },
     "output_type": "display_data"
    }
   ],
   "source": []
  },
  {
   "cell_type": "code",
   "execution_count": null,
   "id": "47aa4a07",
   "metadata": {},
   "outputs": [],
   "source": []
  }
 ],
 "metadata": {
  "kernelspec": {
   "display_name": "Python 3",
   "language": "python",
   "name": "python3"
  },
  "language_info": {
   "codemirror_mode": {
    "name": "ipython",
    "version": 3
   },
   "file_extension": ".py",
   "mimetype": "text/x-python",
   "name": "python",
   "nbconvert_exporter": "python",
   "pygments_lexer": "ipython3",
   "version": "3.8.8"
  }
 },
 "nbformat": 4,
 "nbformat_minor": 5
}
